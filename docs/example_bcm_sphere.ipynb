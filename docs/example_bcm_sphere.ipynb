{
 "cells": [
  {
   "cell_type": "code",
   "execution_count": 1,
   "id": "101190ca",
   "metadata": {},
   "outputs": [],
   "source": [
    "import numpy as np\n",
    "from numpy import pi\n",
    "import matplotlib.pyplot as plt\n",
    "import os\n",
    "import plytrons.bcm_sphere as bcm\n",
    "from plytrons.bcm_sphere import EField, BCMObject\n"
   ]
  },
  {
   "cell_type": "code",
   "execution_count": 9,
   "id": "234e78dc",
   "metadata": {},
   "outputs": [],
   "source": [
    "# ------------------------------------------------------------------------\n",
    "# Define constants\n",
    "# -------------------------------------------------------------------------\n",
    "eps0 = 0.055263493756          # Vacuum permittivity (e/V-nm)\n",
    "c0 = 299792458                 # Speed of light (m/s)\n",
    "hbar = 1.0546e-34              # planck constant (J*s)\n",
    "eV = 1.6022e-19                # electron-volts convertion \n",
    "Z0 = 377 * 1.6022e-19          # Free space impedance (e/V-s)\n",
    "\n",
    "# Define geometrical parameters\n",
    "D = 5                      # Diameter of spheres (nm)\n",
    "dx = 2                      # Spacing between spheres (nm)\n",
    "d_c = D + dx                # Distance between centers (nm) \n",
    "lmax = 10                   # Maximum spherical harmonic index\n",
    "\n",
    "# Define External field\n",
    "efield = EField(\n",
    "    E0=1,                             # E-field intensity (V/nm)\n",
    "    k_hat=bcm.v_normalize([0, 0, 1]),     # Planewave direction\n",
    "    e_hat=bcm.v_normalize([1, 0, 0])      # E-field vector\n",
    "    # k_hat=bcm.v_normalize([1, 0, 0]),     # Planewave direction\n",
    "    # e_hat=bcm.v_normalize([0, 0, 1])      # E-field vector\n",
    ")\n",
    "\n",
    "# Define simulation setup\n",
    "eps_h = 1                           # Dielectric constant of host\n",
    "w = np.linspace(3.2, 4.0, 100) * eV / hbar  # frequencies\n",
    "lambda_vals = 2 * pi * c0 / w * 1E6  # wavelength spectrum (um)\n",
    "\n",
    "# Define Drude model (silver)\n",
    "wp = 9.07 * eV / hbar  # rad/s\n",
    "gw = 0.060 * eV / hbar  # rad/s\n",
    "eps_b = 4.18\n",
    "\n",
    "def eps_drude(x):\n",
    "    return eps_b - wp**2 / ((2 * pi * c0 / x * 1E6) * ((2 * pi * c0 / x * 1E6) + 1j * gw))\n",
    "\n",
    "# Define sphere objects\n",
    "BCM_objects = [\n",
    "    BCMObject(\n",
    "        label='Sphere1',\n",
    "        diameter=D,\n",
    "        lmax=lmax,\n",
    "        eps=eps_drude,\n",
    "        # position=np.array([0, 0, 0])\n",
    "        position=np.array([0, -np.sqrt(3)/2 * d_c, 0])\n",
    "    ),\n",
    "    BCMObject(\n",
    "        label='Sphere2',\n",
    "        diameter=D,\n",
    "        lmax=lmax,\n",
    "        eps=eps_drude,\n",
    "        position=np.array([d_c/2, 0, 0])\n",
    "    ),\n",
    "    BCMObject(\n",
    "        label='Sphere3',\n",
    "        diameter=D,\n",
    "        lmax=lmax,\n",
    "        eps=eps_drude,\n",
    "        position=np.array([-d_c/2, 0, 0])\n",
    "    )\n",
    "]"
   ]
  },
  {
   "cell_type": "code",
   "execution_count": null,
   "id": "afea2dec",
   "metadata": {},
   "outputs": [],
   "source": [
    "# Number of spheres\n",
    "Np = len(BCM_objects)\n",
    "\n",
    "# Compute interaction matrices and vector\n",
    "Gi = [None] * Np\n",
    "G0 = [[None for _ in range(Np)] for _ in range(Np)]\n",
    "Sv = [None] * Np\n",
    "\n",
    "for in_idx in range(Np):\n",
    "    # Compute internal matrix\n",
    "    Gi[in_idx] = bcm.Ginternal(BCM_objects[in_idx])\n",
    "    \n",
    "    # Compute external interaction matrix\n",
    "    for jn_idx in range(Np):\n",
    "        G0[in_idx][jn_idx] = bcm.Gexternal(BCM_objects[in_idx], BCM_objects[jn_idx])\n",
    "    \n",
    "    # Compute external field coefficients\n",
    "    Sv[in_idx] = bcm.Efield_coupling(BCM_objects[in_idx], efield)\n",
    "    \n",
    "#-----------------------------------------------------------------------------------------------------\n",
    "# Solve system\n",
    "#-----------------------------------------------------------------------------------------------------\n",
    "Sw = [None] * Np\n",
    "\n",
    "dx_max = lmax * (lmax + 1) + (lmax + 1) - 1\n",
    "\n",
    "obj_coef = []\n",
    "for coef in BCM_objects:\n",
    "    obj_coef.append(np.zeros((dx_max, len(w)), dtype=complex))\n",
    "\n",
    "for il in range(len(w)):\n",
    "    c, Si = bcm.solve_BCM(w[il], eps_h, BCM_objects, efield, Gi, G0, Sv)\n",
    "    for in_idx in range(Np):\n",
    "        obj_coef[in_idx][:, il] = c[in_idx]\n",
    "        if il == 0:\n",
    "            Sw[in_idx] = np.zeros((len(Si[in_idx]), len(w)), dtype=complex)\n",
    "        Sw[in_idx][:, il] = Si[in_idx]\n",
    "\n",
    "lam_um = 2*np.pi*3E14/w\n",
    "for idx_obj in range(Np):\n",
    "    BCM_objects[idx_obj].set_coefficients(lam_um, obj_coef[idx_obj])"
   ]
  },
  {
   "cell_type": "code",
   "execution_count": 4,
   "id": "2eb5485d",
   "metadata": {},
   "outputs": [
    {
     "data": {
      "text/plain": [
       "(120, 100)"
      ]
     },
     "execution_count": 4,
     "metadata": {},
     "output_type": "execute_result"
    }
   ],
   "source": [
    "obj_coef[0].shape"
   ]
  },
  {
   "cell_type": "code",
   "execution_count": 5,
   "id": "fd01d0b0",
   "metadata": {},
   "outputs": [
    {
     "data": {
      "text/plain": [
       "numpy.ndarray"
      ]
     },
     "execution_count": 5,
     "metadata": {},
     "output_type": "execute_result"
    }
   ],
   "source": [
    "type(BCM_objects[0].BCM_coef)"
   ]
  },
  {
   "cell_type": "code",
   "execution_count": 6,
   "id": "68d7ea82",
   "metadata": {},
   "outputs": [
    {
     "name": "stderr",
     "output_type": "stream",
     "text": [
      "/mnt/c/Users/frami/OneDrive - Universidad Adolfo Ibanez/ComputerCodes/Python/plasmon-hc-clusters/plytrons/bcm_sphere.py:253: RuntimeWarning: invalid value encountered in divide\n",
      "  vector = np.array(vector) / np.array(vector)\n"
     ]
    },
    {
     "data": {
      "image/png": "[encoded data removed]",
      "text/plain": [
       "<Figure size 640x480 with 1 Axes>"
      ]
     },
     "metadata": {},
     "output_type": "display_data"
    }
   ],
   "source": [
    "# Compute scattering and absorption\n",
    "Psca, Pabs = bcm.EM_power(w, eps_h, Gi, G0, BCM_objects)\n",
    "\n",
    "# Create output folder\n",
    "folder_name = f'D{BCM_objects[0].diameter}nm_Ns{len(BCM_objects)}_dr{d_c:.1f}nm_k{bcm.get_axis(efield.k_hat)}E{bcm.get_axis(efield.e_hat)}'\n",
    "\n",
    "if not os.path.isdir(folder_name):\n",
    "    os.mkdir(folder_name)\n",
    "\n",
    "# Save data and plots\n",
    "current_dir = os.getcwd()\n",
    "os.chdir(folder_name)\n",
    "\n",
    "for in_idx, obj in enumerate(BCM_objects):\n",
    "    # Create tag for particle data\n",
    "    sphere_file_name = f'S{in_idx+1}_D{obj.diameter}nm_x{obj.position[0]:.1f}_y{obj.position[1]:.1f}_z{obj.position[2]:.1f}'\n",
    "    \n",
    "    # Plot and save figure of spectrum\n",
    "    plt.figure()\n",
    "    Ri = obj.diameter / 2\n",
    "    plt.plot(w * hbar / eV, Pabs[in_idx] / (efield.E0**2 / (2 * Z0)) / (pi * Ri**2), 'k')\n",
    "    \n",
    "    plt.title(f'E{bcm.get_axis(efield.e_hat)}(k{bcm.get_axis(efield.k_hat)}), sphere{in_idx+1}, ' +\n",
    "                f'D = {obj.diameter:.1f} nm, (x,y,z) = ({obj.position[0]:.1f}, {obj.position[1]:.1f}, {obj.position[2]:.1f}) nm')\n",
    "    plt.xlabel('Photon energy (eV)')\n",
    "    plt.ylabel('Absorption efficiency')\n",
    "    \n",
    "    plt.savefig(f'{sphere_file_name}.jpg')\n",
    "    plt.savefig(f'{sphere_file_name}.png')\n",
    "    \n",
    "    # Save spectra as tabulated data as *.csv file\n",
    "    with open(f'spectra_{sphere_file_name}.csv', 'w') as f:\n",
    "        f.write('# hv (eV), Qabs\\n')\n",
    "        for i in range(len(w)):\n",
    "            f.write(f'{w[i] * hbar / eV:.5f}, {Pabs[in_idx][i] / (efield.E0**2 / (2 * Z0)) / (pi * Ri**2):.5f}\\n')\n",
    "    \n",
    "    # Save coefficients in a *.csv file\n",
    "    with open(f'coefficients_{sphere_file_name}.csv', 'w') as f:\n",
    "        # Write header\n",
    "        header = '\"lambda (um)\", '\n",
    "        idx = 0\n",
    "        for l in range(1, obj.lmax + 1):\n",
    "            for m in range(-l, l + 1):\n",
    "                header += f'({l}_ {m})'\n",
    "                if not (l == obj.lmax and m == l):\n",
    "                    header += ', '\n",
    "        f.write(header + '\\n')\n",
    "        \n",
    "        # Write data\n",
    "        for i in range(len(lambda_vals)):\n",
    "            line = f'{lambda_vals[i]:.6f}, '\n",
    "            idx = 0\n",
    "            for l in range(1, obj.lmax + 1):\n",
    "                for m in range(-l, l + 1):\n",
    "                    if idx < obj.BCM_coef.shape[0]:  # Ensure we don't go out of bounds\n",
    "                        line += f'{obj.BCM_coef[idx, i].real:.6e}{obj.BCM_coef[idx, i].imag:+.6e}j'\n",
    "                        if not (l == obj.lmax and m == l):\n",
    "                            line += ', '\n",
    "                        idx += 1\n",
    "            f.write(line + '\\n')\n",
    "\n",
    "os.chdir(current_dir)"
   ]
  },
  {
   "cell_type": "code",
   "execution_count": 7,
   "id": "103c6e33",
   "metadata": {},
   "outputs": [
    {
     "data": {
      "text/plain": [
       "(0.14960335515053722-0.25912061210350146j)"
      ]
     },
     "execution_count": 7,
     "metadata": {},
     "output_type": "execute_result"
    }
   ],
   "source": [
    "from plytrons.math_utils import em_sph_harm\n",
    "\n",
    "l, m = 1, 1\n",
    "theta, phi = np.pi/3, -np.pi/3\n",
    "em_sph_harm(m, l, theta, phi)"
   ]
  },
  {
   "cell_type": "code",
   "execution_count": 8,
   "id": "5ebe32be",
   "metadata": {},
   "outputs": [
    {
     "data": {
      "text/plain": [
       "(-0.14960335515053722-0.25912061210350146j)"
      ]
     },
     "execution_count": 8,
     "metadata": {},
     "output_type": "execute_result"
    }
   ],
   "source": [
    "l, m = 1, -1\n",
    "theta, phi = np.pi/3, -np.pi/3\n",
    "em_sph_harm(m, l, theta, phi)"
   ]
  },
  {
   "cell_type": "code",
   "execution_count": null,
   "id": "593ae49b",
   "metadata": {},
   "outputs": [],
   "source": []
  }
 ],
 "metadata": {
  "kernelspec": {
   "display_name": "base",
   "language": "python",
   "name": "python3"
  },
  "language_info": {
   "codemirror_mode": {
    "name": "ipython",
    "version": 3
   },
   "file_extension": ".py",
   "mimetype": "text/x-python",
   "name": "python",
   "nbconvert_exporter": "python",
   "pygments_lexer": "ipython3",
   "version": "3.11.6"
  }
 },
 "nbformat": 4,
 "nbformat_minor": 5
}
